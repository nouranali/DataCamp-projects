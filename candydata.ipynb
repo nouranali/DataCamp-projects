{
 "cells": [
  {
   "cell_type": "markdown",
   "metadata": {},
   "source": [
    "## Candy Hirarchy data 2017"
   ]
  },
  {
   "cell_type": "markdown",
   "metadata": {},
   "source": [
    "### import libraries"
   ]
  },
  {
   "cell_type": "code",
   "execution_count": 1,
   "metadata": {
    "colab": {},
    "colab_type": "code",
    "id": "nFb4mFXYZpQh"
   },
   "outputs": [],
   "source": [
    "import pandas as pd\n",
    "import matplotlib.pyplot as plt\n",
    "import numpy as np\n",
    "import seaborn as sns\n",
    "from scipy import stats\n",
    "sns.set(style='ticks')\n",
    "%matplotlib inline"
   ]
  },
  {
   "cell_type": "markdown",
   "metadata": {},
   "source": [
    "read data"
   ]
  },
  {
   "cell_type": "code",
   "execution_count": 2,
   "metadata": {
    "colab": {},
    "colab_type": "code",
    "id": "6l5bgNHVacyM"
   },
   "outputs": [],
   "source": [
    "candy=pd.read_csv('candyhierarchy2017.csv',encoding='latin1')"
   ]
  },
  {
   "cell_type": "code",
   "execution_count": 3,
   "metadata": {
    "colab": {
     "base_uri": "https://localhost:8080/",
     "height": 681
    },
    "colab_type": "code",
    "id": "fJJNsSHka3Ts",
    "outputId": "11a5fa1f-a0e1-497b-8429-b92379cdb832"
   },
   "outputs": [
    {
     "data": {
      "text/html": [
       "<div>\n",
       "<style scoped>\n",
       "    .dataframe tbody tr th:only-of-type {\n",
       "        vertical-align: middle;\n",
       "    }\n",
       "\n",
       "    .dataframe tbody tr th {\n",
       "        vertical-align: top;\n",
       "    }\n",
       "\n",
       "    .dataframe thead th {\n",
       "        text-align: right;\n",
       "    }\n",
       "</style>\n",
       "<table border=\"1\" class=\"dataframe\">\n",
       "  <thead>\n",
       "    <tr style=\"text-align: right;\">\n",
       "      <th></th>\n",
       "      <th>Internal ID</th>\n",
       "      <th>Q1: GOING OUT?</th>\n",
       "      <th>Q2: GENDER</th>\n",
       "      <th>Q3: AGE</th>\n",
       "      <th>Q4: COUNTRY</th>\n",
       "      <th>Q5: STATE, PROVINCE, COUNTY, ETC</th>\n",
       "      <th>Q6 | 100 Grand Bar</th>\n",
       "      <th>Q6 | Anonymous brown globs that come in black and orange wrappers\\t(a.k.a. Mary Janes)</th>\n",
       "      <th>Q6 | Any full-sized candy bar</th>\n",
       "      <th>Q6 | Black Jacks</th>\n",
       "      <th>...</th>\n",
       "      <th>Q8: DESPAIR OTHER</th>\n",
       "      <th>Q9: OTHER COMMENTS</th>\n",
       "      <th>Q10: DRESS</th>\n",
       "      <th>Unnamed: 113</th>\n",
       "      <th>Q11: DAY</th>\n",
       "      <th>Q12: MEDIA [Daily Dish]</th>\n",
       "      <th>Q12: MEDIA [Science]</th>\n",
       "      <th>Q12: MEDIA [ESPN]</th>\n",
       "      <th>Q12: MEDIA [Yahoo]</th>\n",
       "      <th>Click Coordinates (x, y)</th>\n",
       "    </tr>\n",
       "  </thead>\n",
       "  <tbody>\n",
       "    <tr>\n",
       "      <th>0</th>\n",
       "      <td>90258773</td>\n",
       "      <td>NaN</td>\n",
       "      <td>NaN</td>\n",
       "      <td>NaN</td>\n",
       "      <td>NaN</td>\n",
       "      <td>NaN</td>\n",
       "      <td>NaN</td>\n",
       "      <td>NaN</td>\n",
       "      <td>NaN</td>\n",
       "      <td>NaN</td>\n",
       "      <td>...</td>\n",
       "      <td>NaN</td>\n",
       "      <td>NaN</td>\n",
       "      <td>NaN</td>\n",
       "      <td>NaN</td>\n",
       "      <td>NaN</td>\n",
       "      <td>NaN</td>\n",
       "      <td>NaN</td>\n",
       "      <td>NaN</td>\n",
       "      <td>NaN</td>\n",
       "      <td>NaN</td>\n",
       "    </tr>\n",
       "    <tr>\n",
       "      <th>1</th>\n",
       "      <td>90272821</td>\n",
       "      <td>No</td>\n",
       "      <td>Male</td>\n",
       "      <td>44</td>\n",
       "      <td>USA</td>\n",
       "      <td>NM</td>\n",
       "      <td>MEH</td>\n",
       "      <td>DESPAIR</td>\n",
       "      <td>JOY</td>\n",
       "      <td>MEH</td>\n",
       "      <td>...</td>\n",
       "      <td>NaN</td>\n",
       "      <td>Bottom line is Twix is really the only candy w...</td>\n",
       "      <td>White and gold</td>\n",
       "      <td>NaN</td>\n",
       "      <td>Sunday</td>\n",
       "      <td>NaN</td>\n",
       "      <td>1.0</td>\n",
       "      <td>NaN</td>\n",
       "      <td>NaN</td>\n",
       "      <td>(84, 25)</td>\n",
       "    </tr>\n",
       "    <tr>\n",
       "      <th>2</th>\n",
       "      <td>90272829</td>\n",
       "      <td>NaN</td>\n",
       "      <td>Male</td>\n",
       "      <td>49</td>\n",
       "      <td>USA</td>\n",
       "      <td>Virginia</td>\n",
       "      <td>NaN</td>\n",
       "      <td>NaN</td>\n",
       "      <td>NaN</td>\n",
       "      <td>NaN</td>\n",
       "      <td>...</td>\n",
       "      <td>NaN</td>\n",
       "      <td>NaN</td>\n",
       "      <td>NaN</td>\n",
       "      <td>NaN</td>\n",
       "      <td>NaN</td>\n",
       "      <td>NaN</td>\n",
       "      <td>NaN</td>\n",
       "      <td>NaN</td>\n",
       "      <td>NaN</td>\n",
       "      <td>NaN</td>\n",
       "    </tr>\n",
       "    <tr>\n",
       "      <th>3</th>\n",
       "      <td>90272840</td>\n",
       "      <td>No</td>\n",
       "      <td>Male</td>\n",
       "      <td>40</td>\n",
       "      <td>us</td>\n",
       "      <td>or</td>\n",
       "      <td>MEH</td>\n",
       "      <td>DESPAIR</td>\n",
       "      <td>JOY</td>\n",
       "      <td>MEH</td>\n",
       "      <td>...</td>\n",
       "      <td>NaN</td>\n",
       "      <td>Raisins can go to hell</td>\n",
       "      <td>White and gold</td>\n",
       "      <td>NaN</td>\n",
       "      <td>Sunday</td>\n",
       "      <td>NaN</td>\n",
       "      <td>1.0</td>\n",
       "      <td>NaN</td>\n",
       "      <td>NaN</td>\n",
       "      <td>(75, 23)</td>\n",
       "    </tr>\n",
       "    <tr>\n",
       "      <th>4</th>\n",
       "      <td>90272841</td>\n",
       "      <td>No</td>\n",
       "      <td>Male</td>\n",
       "      <td>23</td>\n",
       "      <td>usa</td>\n",
       "      <td>exton pa</td>\n",
       "      <td>JOY</td>\n",
       "      <td>DESPAIR</td>\n",
       "      <td>JOY</td>\n",
       "      <td>DESPAIR</td>\n",
       "      <td>...</td>\n",
       "      <td>NaN</td>\n",
       "      <td>NaN</td>\n",
       "      <td>White and gold</td>\n",
       "      <td>NaN</td>\n",
       "      <td>Friday</td>\n",
       "      <td>NaN</td>\n",
       "      <td>1.0</td>\n",
       "      <td>NaN</td>\n",
       "      <td>NaN</td>\n",
       "      <td>(70, 10)</td>\n",
       "    </tr>\n",
       "  </tbody>\n",
       "</table>\n",
       "<p>5 rows × 120 columns</p>\n",
       "</div>"
      ],
      "text/plain": [
       "   Internal ID Q1: GOING OUT? Q2: GENDER Q3: AGE Q4: COUNTRY  \\\n",
       "0     90258773            NaN        NaN     NaN         NaN   \n",
       "1     90272821             No       Male      44        USA    \n",
       "2     90272829            NaN       Male      49         USA   \n",
       "3     90272840             No       Male      40          us   \n",
       "4     90272841             No       Male      23         usa   \n",
       "\n",
       "  Q5: STATE, PROVINCE, COUNTY, ETC Q6 | 100 Grand Bar  \\\n",
       "0                              NaN                NaN   \n",
       "1                               NM                MEH   \n",
       "2                         Virginia                NaN   \n",
       "3                               or                MEH   \n",
       "4                         exton pa                JOY   \n",
       "\n",
       "  Q6 | Anonymous brown globs that come in black and orange wrappers\\t(a.k.a. Mary Janes)  \\\n",
       "0                                                NaN                                       \n",
       "1                                            DESPAIR                                       \n",
       "2                                                NaN                                       \n",
       "3                                            DESPAIR                                       \n",
       "4                                            DESPAIR                                       \n",
       "\n",
       "  Q6 | Any full-sized candy bar Q6 | Black Jacks  ... Q8: DESPAIR OTHER  \\\n",
       "0                           NaN              NaN  ...               NaN   \n",
       "1                           JOY              MEH  ...               NaN   \n",
       "2                           NaN              NaN  ...               NaN   \n",
       "3                           JOY              MEH  ...               NaN   \n",
       "4                           JOY          DESPAIR  ...               NaN   \n",
       "\n",
       "                                  Q9: OTHER COMMENTS      Q10: DRESS  \\\n",
       "0                                                NaN             NaN   \n",
       "1  Bottom line is Twix is really the only candy w...  White and gold   \n",
       "2                                                NaN             NaN   \n",
       "3                             Raisins can go to hell  White and gold   \n",
       "4                                                NaN  White and gold   \n",
       "\n",
       "  Unnamed: 113 Q11: DAY Q12: MEDIA [Daily Dish] Q12: MEDIA [Science]  \\\n",
       "0          NaN      NaN                     NaN                  NaN   \n",
       "1          NaN   Sunday                     NaN                  1.0   \n",
       "2          NaN      NaN                     NaN                  NaN   \n",
       "3          NaN   Sunday                     NaN                  1.0   \n",
       "4          NaN   Friday                     NaN                  1.0   \n",
       "\n",
       "  Q12: MEDIA [ESPN] Q12: MEDIA [Yahoo] Click Coordinates (x, y)  \n",
       "0               NaN                NaN                      NaN  \n",
       "1               NaN                NaN                 (84, 25)  \n",
       "2               NaN                NaN                      NaN  \n",
       "3               NaN                NaN                 (75, 23)  \n",
       "4               NaN                NaN                 (70, 10)  \n",
       "\n",
       "[5 rows x 120 columns]"
      ]
     },
     "execution_count": 3,
     "metadata": {},
     "output_type": "execute_result"
    }
   ],
   "source": [
    "candy.head()"
   ]
  },
  {
   "cell_type": "markdown",
   "metadata": {},
   "source": [
    "### let's drop these 2 columns as a start"
   ]
  },
  {
   "cell_type": "code",
   "execution_count": 4,
   "metadata": {
    "colab": {},
    "colab_type": "code",
    "id": "Xr8Jfkr9b_D2"
   },
   "outputs": [],
   "source": [
    "candy.drop(columns=['Unnamed: 113','Internal ID',],inplace=True)"
   ]
  },
  {
   "cell_type": "code",
   "execution_count": 5,
   "metadata": {
    "colab": {
     "base_uri": "https://localhost:8080/",
     "height": 34
    },
    "colab_type": "code",
    "id": "HnXT3jdrb7og",
    "outputId": "a89bf1a6-8115-4427-9d18-f7579ba4df52"
   },
   "outputs": [
    {
     "data": {
      "text/plain": [
       "(2460, 118)"
      ]
     },
     "execution_count": 5,
     "metadata": {},
     "output_type": "execute_result"
    }
   ],
   "source": [
    "candy.shape"
   ]
  },
  {
   "cell_type": "code",
   "execution_count": 6,
   "metadata": {
    "colab": {
     "base_uri": "https://localhost:8080/",
     "height": 1000
    },
    "colab_type": "code",
    "id": "KwOCNjJIbAQy",
    "outputId": "4d354e93-e4e8-4adc-d4ee-4f3830a2abd5"
   },
   "outputs": [
    {
     "data": {
      "text/plain": [
       "['Click Coordinates (x, y)',\n",
       " 'Q10: DRESS',\n",
       " 'Q11: DAY',\n",
       " 'Q12: MEDIA [Daily Dish]',\n",
       " 'Q12: MEDIA [ESPN]',\n",
       " 'Q12: MEDIA [Science]',\n",
       " 'Q12: MEDIA [Yahoo]',\n",
       " 'Q1: GOING OUT?',\n",
       " 'Q2: GENDER',\n",
       " 'Q3: AGE',\n",
       " 'Q4: COUNTRY',\n",
       " 'Q5: STATE, PROVINCE, COUNTY, ETC',\n",
       " 'Q6 | 100 Grand Bar',\n",
       " \"Q6 | Abstained from M&M'ing.\",\n",
       " 'Q6 | Anonymous brown globs that come in black and orange wrappers\\t(a.k.a. Mary Janes)',\n",
       " 'Q6 | Any full-sized candy bar',\n",
       " 'Q6 | Black Jacks',\n",
       " \"Q6 | Blue M&M's\",\n",
       " 'Q6 | Bonkers (the board game)',\n",
       " 'Q6 | Bonkers (the candy)',\n",
       " 'Q6 | Bottle Caps',\n",
       " \"Q6 | Box'o'Raisins\",\n",
       " 'Q6 | Broken glow stick',\n",
       " 'Q6 | Butterfinger',\n",
       " 'Q6 | Cadbury Creme Eggs',\n",
       " 'Q6 | Candy Corn',\n",
       " 'Q6 | Candy that is clearly just the stuff given out for free at restaurants',\n",
       " 'Q6 | Caramellos',\n",
       " 'Q6 | Cash, or other forms of legal tender',\n",
       " 'Q6 | Chardonnay',\n",
       " 'Q6 | Chick-o-Sticks (we donÕt know what that is)',\n",
       " 'Q6 | Chiclets',\n",
       " 'Q6 | Coffee Crisp',\n",
       " 'Q6 | Creepy Religious comics/Chick Tracts',\n",
       " 'Q6 | Dental paraphenalia',\n",
       " 'Q6 | Dots',\n",
       " 'Q6 | Dove Bars',\n",
       " 'Q6 | Fuzzy Peaches',\n",
       " 'Q6 | Generic Brand Acetaminophen',\n",
       " 'Q6 | Glow sticks',\n",
       " 'Q6 | Goo Goo Clusters',\n",
       " \"Q6 | Good N' Plenty\",\n",
       " \"Q6 | Green Party M&M's\",\n",
       " 'Q6 | Gum from baseball cards',\n",
       " 'Q6 | Gummy Bears straight up',\n",
       " 'Q6 | Hard Candy',\n",
       " 'Q6 | Healthy Fruit',\n",
       " 'Q6 | Heath Bar',\n",
       " \"Q6 | Hershey's Dark Chocolate\",\n",
       " \"Q6 | Hershey's Kisses\",\n",
       " 'Q6 | HersheyÕs Milk Chocolate',\n",
       " 'Q6 | Hugs (actual physical hugs)',\n",
       " \"Q6 | Independent M&M's\",\n",
       " 'Q6 | Jolly Rancher (bad flavor)',\n",
       " 'Q6 | Jolly Ranchers (good flavor)',\n",
       " 'Q6 | JoyJoy (Mit Iodine!)',\n",
       " 'Q6 | Junior Mints',\n",
       " 'Q6 | Kale smoothie',\n",
       " 'Q6 | Kinder Happy Hippo',\n",
       " 'Q6 | Kit Kat',\n",
       " 'Q6 | LaffyTaffy',\n",
       " 'Q6 | LemonHeads',\n",
       " 'Q6 | Licorice (not black)',\n",
       " 'Q6 | Licorice (yes black)',\n",
       " 'Q6 | Lindt Truffle',\n",
       " 'Q6 | Lollipops',\n",
       " 'Q6 | Mars',\n",
       " 'Q6 | Maynards',\n",
       " 'Q6 | Mike and Ike',\n",
       " 'Q6 | Milk Duds',\n",
       " 'Q6 | Milky Way',\n",
       " 'Q6 | Minibags of chips',\n",
       " 'Q6 | Mint Juleps',\n",
       " 'Q6 | Mint Kisses',\n",
       " 'Q6 | Mr. Goodbar',\n",
       " 'Q6 | Necco Wafers',\n",
       " 'Q6 | Nerds',\n",
       " 'Q6 | Nestle Crunch',\n",
       " \"Q6 | Now'n'Laters\",\n",
       " 'Q6 | Peanut M&MÕs',\n",
       " 'Q6 | Peeps',\n",
       " 'Q6 | Pencils',\n",
       " 'Q6 | Pixy Stix',\n",
       " 'Q6 | Real Housewives of Orange County Season 9 Blue-Ray',\n",
       " \"Q6 | Red M&M's\",\n",
       " \"Q6 | Reese's Pieces\",\n",
       " 'Q6 | ReeseÕs Peanut Butter Cups',\n",
       " 'Q6 | Reggie Jackson Bar',\n",
       " 'Q6 | Regular M&Ms',\n",
       " 'Q6 | Rolos',\n",
       " 'Q6 | Sandwich-sized bags filled with BooBerry Crunch',\n",
       " 'Q6 | Senior Mints',\n",
       " 'Q6 | Skittles',\n",
       " 'Q6 | Smarties (American)',\n",
       " 'Q6 | Smarties (Commonwealth)',\n",
       " 'Q6 | Snickers',\n",
       " 'Q6 | Sourpatch Kids (i.e. abominations of nature)',\n",
       " 'Q6 | Spotted Dick',\n",
       " 'Q6 | Starburst',\n",
       " 'Q6 | Swedish Fish',\n",
       " 'Q6 | Sweet Tarts',\n",
       " 'Q6 | Sweetums (a friend to diabetes)',\n",
       " 'Q6 | Take 5',\n",
       " 'Q6 | Those odd marshmallow circus peanut things',\n",
       " 'Q6 | Three Musketeers',\n",
       " 'Q6 | Tic Tacs',\n",
       " 'Q6 | Tolberone something or other',\n",
       " 'Q6 | Trail Mix',\n",
       " 'Q6 | Twix',\n",
       " 'Q6 | Vials of pure high fructose corn syrup, for main-lining into your vein',\n",
       " 'Q6 | Vicodin',\n",
       " 'Q6 | Whatchamacallit Bars',\n",
       " 'Q6 | White Bread',\n",
       " 'Q6 | Whole Wheat anything',\n",
       " 'Q6 | York Peppermint Patties',\n",
       " 'Q7: JOY OTHER',\n",
       " 'Q8: DESPAIR OTHER',\n",
       " 'Q9: OTHER COMMENTS']"
      ]
     },
     "execution_count": 6,
     "metadata": {},
     "output_type": "execute_result"
    }
   ],
   "source": [
    "sorted(candy)"
   ]
  },
  {
   "cell_type": "markdown",
   "metadata": {},
   "source": [
    "### clean column names"
   ]
  },
  {
   "cell_type": "code",
   "execution_count": 7,
   "metadata": {
    "colab": {},
    "colab_type": "code",
    "id": "Dx-H1qigcMWe"
   },
   "outputs": [],
   "source": [
    "col_names=candy.columns"
   ]
  },
  {
   "cell_type": "code",
   "execution_count": 8,
   "metadata": {
    "colab": {},
    "colab_type": "code",
    "id": "uMhG99P3c59o"
   },
   "outputs": [],
   "source": [
    "col_names=col_names.str[4:]\n",
    "col_names=col_names.str.replace('|','')\n",
    "col_names=col_names.str.replace(':','')\n",
    "col_names=col_names.str.strip()"
   ]
  },
  {
   "cell_type": "code",
   "execution_count": 9,
   "metadata": {
    "colab": {
     "base_uri": "https://localhost:8080/",
     "height": 168
    },
    "colab_type": "code",
    "id": "qLBchpyaglgV",
    "outputId": "5a107a34-b0fa-4459-c8cb-1ec99f3ef2ce"
   },
   "outputs": [
    {
     "data": {
      "text/plain": [
       "Index(['GOING OUT?', 'GENDER', 'AGE', 'COUNTRY',\n",
       "       'STATE, PROVINCE, COUNTY, ETC', '100 Grand Bar',\n",
       "       'Anonymous brown globs that come in black and orange wrappers\\t(a.k.a. Mary Janes)',\n",
       "       'Any full-sized candy bar', 'Black Jacks', 'Bonkers (the candy)',\n",
       "       ...\n",
       "       'JOY OTHER', 'DESPAIR OTHER', 'OTHER COMMENTS', 'DRESS', 'DAY',\n",
       "       'MEDIA [Daily Dish]', 'MEDIA [Science]', 'MEDIA [ESPN]',\n",
       "       'MEDIA [Yahoo]', 'k Coordinates (x, y)'],\n",
       "      dtype='object', length=118)"
      ]
     },
     "execution_count": 9,
     "metadata": {},
     "output_type": "execute_result"
    }
   ],
   "source": [
    "col_names"
   ]
  },
  {
   "cell_type": "code",
   "execution_count": 10,
   "metadata": {
    "colab": {},
    "colab_type": "code",
    "id": "T-cBQhREhhAD"
   },
   "outputs": [],
   "source": [
    "candy.columns=col_names"
   ]
  },
  {
   "cell_type": "markdown",
   "metadata": {},
   "source": [
    "### let's examine Age column"
   ]
  },
  {
   "cell_type": "code",
   "execution_count": 11,
   "metadata": {},
   "outputs": [
    {
     "data": {
      "text/plain": [
       "array([nan, '44', '49', '40', '23', '53', '33', '43', '56', '64', '37',\n",
       "       '59', '48', '54', '36', '45', '25', '34', '35', '38', '58', '50',\n",
       "       '47', '16', '52', '63', '65', '41', '27', '31', '61', '46', '42',\n",
       "       '62', '29', '39', '32', '28', '69', '67', '30', '22', '26', '51',\n",
       "       '70', '24', '18', '19', 'Old enough', '57', '60', '66', '12',\n",
       "       'Many', '55', '72', '?', '21', '11', 'no', '9', '68', '20', '6',\n",
       "       '10', '71', '90', '13', '45-55', '312', '99', '7', 'hahahahaha',\n",
       "       '88', '39.4', '74', '102', 'older than dirt', '17', '15', '8',\n",
       "       '75', '5u', 'Enough', 'See question 2', '24-50', '14', 'Over 50',\n",
       "       '100', '76', '1000', 'sixty-nine', '46 Halloweens.', 'ancient',\n",
       "       '77', 'OLD', 'old', '73', '70 1/2', '1', 'MY NAME JEFF', '4',\n",
       "       '59 on the day after Halloween', 'old enough', 'your mom',\n",
       "       'I can remember when Java was a cool new language', '60+'],\n",
       "      dtype=object)"
      ]
     },
     "execution_count": 11,
     "metadata": {},
     "output_type": "execute_result"
    }
   ],
   "source": [
    "candy['AGE'].unique()"
   ]
  },
  {
   "cell_type": "code",
   "execution_count": 12,
   "metadata": {},
   "outputs": [],
   "source": [
    "candy.AGE.replace(['Old enough','Many','?','no','45-55','hahahahaha','older than dirt','5u','Enough'\n",
    "                  'See question 2', '24-50', 'Over 50','sixty-nine', '46 Halloweens.', 'ancient',\n",
    "                  'OLD', 'old', '70 1/2', '1', 'MY NAME JEFF', \n",
    "       '59 on the day after Halloween', 'old enough', 'your mom',\n",
    "       'I can remember when Java was a cool new language', '60+'],np.nan,inplace=True)"
   ]
  },
  {
   "cell_type": "code",
   "execution_count": 13,
   "metadata": {
    "colab": {},
    "colab_type": "code",
    "id": "1mxx5gxxn6nz"
   },
   "outputs": [],
   "source": [
    "candy['AGE']=pd.to_numeric(candy['AGE'],errors='coerce')"
   ]
  },
  {
   "cell_type": "markdown",
   "metadata": {},
   "source": [
    "#### let's check if there's outliers.."
   ]
  },
  {
   "cell_type": "code",
   "execution_count": 14,
   "metadata": {
    "colab": {
     "base_uri": "https://localhost:8080/",
     "height": 285
    },
    "colab_type": "code",
    "id": "ObM2pRjroHdN",
    "outputId": "c2418aa4-97ea-46e6-c8db-ce319c05536a"
   },
   "outputs": [
    {
     "data": {
      "image/png": "[encoded data removed]",
      "text/plain": [
       "<Figure size 432x288 with 1 Axes>"
      ]
     },
     "metadata": {
      "needs_background": "light"
     },
     "output_type": "display_data"
    }
   ],
   "source": [
    "ax=sns.boxplot(x=candy['AGE'])"
   ]
  },
  {
   "cell_type": "code",
   "execution_count": 15,
   "metadata": {
    "colab": {
     "base_uri": "https://localhost:8080/",
     "height": 34
    },
    "colab_type": "code",
    "id": "d6dnFvSTrXd7",
    "outputId": "8765eb9f-6325-4417-8bfe-c648878cda48"
   },
   "outputs": [
    {
     "data": {
      "text/plain": [
       "41.0"
      ]
     },
     "execution_count": 15,
     "metadata": {},
     "output_type": "execute_result"
    }
   ],
   "source": [
    "np.nanmedian(candy['AGE'])"
   ]
  },
  {
   "cell_type": "code",
   "execution_count": 16,
   "metadata": {
    "colab": {},
    "colab_type": "code",
    "id": "7chrM_4tsCTe"
   },
   "outputs": [],
   "source": [
    "candy['AGE'].fillna(41,inplace=True)"
   ]
  },
  {
   "cell_type": "code",
   "execution_count": 17,
   "metadata": {
    "colab": {
     "base_uri": "https://localhost:8080/",
     "height": 101
    },
    "colab_type": "code",
    "id": "0MnNUqKMsRXj",
    "outputId": "71a96e4a-b1cc-49b7-c39b-c737986d8c2e"
   },
   "outputs": [],
   "source": [
    "candy['AGE']=candy['AGE'].astype('float')"
   ]
  },
  {
   "cell_type": "markdown",
   "metadata": {},
   "source": [
    "Let's detect outliers and remove them using IQR"
   ]
  },
  {
   "cell_type": "code",
   "execution_count": 18,
   "metadata": {
    "colab": {
     "base_uri": "https://localhost:8080/",
     "height": 118
    },
    "colab_type": "code",
    "id": "1dZPA3DQLL2i",
    "outputId": "74e3f55d-bc86-40d5-8b37-8587042a0b1c"
   },
   "outputs": [
    {
     "name": "stdout",
     "output_type": "stream",
     "text": [
      "AGE                   15.0\n",
      "MEDIA [Daily Dish]     0.0\n",
      "MEDIA [Science]        0.0\n",
      "MEDIA [ESPN]           0.0\n",
      "MEDIA [Yahoo]          0.0\n",
      "dtype: float64\n"
     ]
    }
   ],
   "source": [
    "Q1 = candy.quantile(0.25)\n",
    "Q3 = candy.quantile(0.75)\n",
    "IQR = Q3 - Q1\n",
    "print(IQR)"
   ]
  },
  {
   "cell_type": "code",
   "execution_count": 19,
   "metadata": {
    "colab": {},
    "colab_type": "code",
    "id": "V7an2bDaNXU6"
   },
   "outputs": [],
   "source": [
    "candy = candy[~((candy < (Q1 - 1.5 * IQR)) |(candy > (Q3 + 1.5 * IQR))).any(axis=1)]"
   ]
  },
  {
   "cell_type": "markdown",
   "metadata": {},
   "source": [
    "#### country field was a text box so there'll be some funny comments -_-"
   ]
  },
  {
   "cell_type": "code",
   "execution_count": 20,
   "metadata": {
    "colab": {},
    "colab_type": "code",
    "id": "4hX5wd4sCMGH"
   },
   "outputs": [],
   "source": [
    "candy['COUNTRY']=candy.COUNTRY.str.lower()"
   ]
  },
  {
   "cell_type": "code",
   "execution_count": 21,
   "metadata": {
    "colab": {
     "base_uri": "https://localhost:8080/",
     "height": 403
    },
    "colab_type": "code",
    "id": "rLsM63YA153S",
    "outputId": "ca873be1-bab2-4186-856a-4a0b2f68940d"
   },
   "outputs": [
    {
     "data": {
      "text/plain": [
       "array([nan, 'usa ', 'usa', 'us', 'canada', 'murica', 'united states',\n",
       "       'uk', 'united kingdom', 'united states ', 'united staes',\n",
       "       'united states of america', 'uae', 'england', 'canada ', 'mexico',\n",
       "       'u.s.a.', 'usausausa', 'america', '35', 'france',\n",
       "       'united states of america ', 'finland', 'unhinged states',\n",
       "       'us of a', 'unites states', 'the united states', 'unied states',\n",
       "       'netherlands', 'germany', 'u s', 'u.s.', 'u.k. ', 'costa rica',\n",
       "       'the united states of america', 'unite states', '46', 'cascadia',\n",
       "       'insanity lately', 'greece', 'usa? hard to tell anymore..', 'usas',\n",
       "       'pittsburgh', '45', 'united state', '32', 'australia', 'can',\n",
       "       'canae', 'new york', 'trumpistan', 'ireland', 'united sates',\n",
       "       'korea', 'california', 'japan', 'south africa',\n",
       "       'i pretend to be from canada, but i am really from the united states.',\n",
       "       'iceland', 'canada`', 'scotland', 'uk ', 'denmark',\n",
       "       'united stated', 'france ', 'switzerland', 'ahem....amerca', 'ud',\n",
       "       'scotland ', 'south korea', 'new jersey', 'indonesia',\n",
       "       'united ststes', 'the netherlands', 'united statss', 'endland',\n",
       "       'murrika', 'usa! usa! usa!', 'usaa', 'alaska',\n",
       "       'soviet canuckistan', 'n. america', 'singapore', 'ussa', 'taiwan',\n",
       "       'china', 'ireland ', 'hong kong', 'spain', 'sweden', 'narnia',\n",
       "       'u s a', 'united statea', '1', 'subscribe to dm4uz3 on youtube',\n",
       "       'usa usa usa!!!!', \"i don't know anymore\", 'fear and loathing'],\n",
       "      dtype=object)"
      ]
     },
     "execution_count": 21,
     "metadata": {},
     "output_type": "execute_result"
    }
   ],
   "source": [
    "candy['COUNTRY'].unique()"
   ]
  },
  {
   "cell_type": "markdown",
   "metadata": {},
   "source": [
    "#### Looks like american people are kinda funny.."
   ]
  },
  {
   "cell_type": "code",
   "execution_count": 22,
   "metadata": {
    "colab": {},
    "colab_type": "code",
    "id": "fBx7CR30C0rD"
   },
   "outputs": [],
   "source": [
    "candy.COUNTRY.replace(to_replace=['usa', 'us', 'united states','united staes','united states of america','u.s.a.', 'usausausa', 'america', '35',\n",
    "                      'united states of america ', 'unhinged states',\n",
    "       'us of a', 'unites states', 'the united states', 'north carolina ','unied states','earth', 'u s',\n",
    "       'u.s.','the united states of america',\n",
    "       'unite states', '46', 'cascadia','insanity lately', \"'merica\",'usas', 'pittsburgh', '45', 'united state',\n",
    "       '32', 'a', 'can', 'canae', 'new york','united sates','california', 'united stated','united ststes','usa! usa! usa!', 'usaa','n. america','u.s. ', '1',\n",
    "       'subscribe to dm4uz3 on youtube', 'usa usa usa!!!!',\n",
    "       \"i don't know anymore\", 'fear and loathing' ,'united states','united states','usa ','atlantis','united states ','new jersey','trumpistan','usa? hard to tell anymore..','i pretend to be from canada, but i am really from the united states.',\n",
    "'ahem....amerca','ussa', 'narnia', 'u s a',\n",
    " 'united statss','united statea'],value='usa',inplace=True)"
   ]
  },
  {
   "cell_type": "code",
   "execution_count": 23,
   "metadata": {
    "colab": {},
    "colab_type": "code",
    "id": "vxTgznaPFPVN"
   },
   "outputs": [],
   "source": [
    "candy.COUNTRY.replace(to_replace=['uk', 'united kingdom','u.k. ','uk ','ud','endland','england','ireland'],value='uk',inplace=True)"
   ]
  },
  {
   "cell_type": "code",
   "execution_count": 24,
   "metadata": {
    "colab": {},
    "colab_type": "code",
    "id": "p8V2fFojF_u2"
   },
   "outputs": [],
   "source": [
    "candy.COUNTRY.replace(to_replace='the netherlands',value='netherlands',inplace=True)"
   ]
  },
  {
   "cell_type": "code",
   "execution_count": 25,
   "metadata": {
    "colab": {},
    "colab_type": "code",
    "id": "RkabmLgSGL1s"
   },
   "outputs": [],
   "source": [
    "candy.COUNTRY.replace(to_replace=['canada','canada ','canada`'],value='canada',inplace=True)"
   ]
  },
  {
   "cell_type": "code",
   "execution_count": 26,
   "metadata": {
    "colab": {},
    "colab_type": "code",
    "id": "ob3B1-DhHEBJ"
   },
   "outputs": [],
   "source": [
    "candy.COUNTRY.replace(to_replace=[ 'murica','murrika'],value='murika',inplace=True)"
   ]
  },
  {
   "cell_type": "code",
   "execution_count": 27,
   "metadata": {
    "colab": {},
    "colab_type": "code",
    "id": "YDegRflzHoc7"
   },
   "outputs": [],
   "source": [
    "candy.COUNTRY.replace(to_replace=['scotland '],value='scotland',inplace=True)"
   ]
  },
  {
   "cell_type": "code",
   "execution_count": 28,
   "metadata": {
    "colab": {},
    "colab_type": "code",
    "id": "Oj9oOQqNHyQp"
   },
   "outputs": [],
   "source": [
    "candy.COUNTRY.replace('hong kong','china',inplace=True)"
   ]
  },
  {
   "cell_type": "code",
   "execution_count": 29,
   "metadata": {
    "colab": {},
    "colab_type": "code",
    "id": "D_8r1Bb2IcYL"
   },
   "outputs": [],
   "source": [
    "candy.COUNTRY.replace('europe','uk',inplace=True)"
   ]
  },
  {
   "cell_type": "code",
   "execution_count": 30,
   "metadata": {
    "colab": {
     "base_uri": "https://localhost:8080/",
     "height": 118
    },
    "colab_type": "code",
    "id": "XglJO-_IFLlQ",
    "outputId": "388a9604-ab5e-4497-a58c-797b5264b0e3"
   },
   "outputs": [
    {
     "data": {
      "text/plain": [
       "array([nan, 'usa', 'canada', 'murika', 'uk', 'uae', 'mexico', 'france',\n",
       "       'finland', 'netherlands', 'germany', 'costa rica', 'greece',\n",
       "       'australia', 'korea', 'japan', 'south africa', 'iceland',\n",
       "       'scotland', 'denmark', 'france ', 'switzerland', 'south korea',\n",
       "       'indonesia', 'alaska', 'soviet canuckistan', 'singapore', 'taiwan',\n",
       "       'china', 'ireland ', 'spain', 'sweden'], dtype=object)"
      ]
     },
     "execution_count": 30,
     "metadata": {},
     "output_type": "execute_result"
    }
   ],
   "source": [
    "candy['COUNTRY'].unique()"
   ]
  },
  {
   "cell_type": "code",
   "execution_count": 31,
   "metadata": {
    "colab": {},
    "colab_type": "code",
    "id": "mD-zGgRrInGf"
   },
   "outputs": [],
   "source": [
    "candy.COUNTRY.fillna('usa',inplace=True)"
   ]
  },
  {
   "cell_type": "code",
   "execution_count": 32,
   "metadata": {
    "colab": {
     "base_uri": "https://localhost:8080/",
     "height": 168
    },
    "colab_type": "code",
    "id": "2Impndu5iIcs",
    "outputId": "01ae8d50-bbfa-45d9-8029-4f1780bf62bb"
   },
   "outputs": [
    {
     "data": {
      "text/plain": [
       "Index(['GOING OUT?', 'GENDER', 'AGE', 'COUNTRY',\n",
       "       'STATE, PROVINCE, COUNTY, ETC', '100 Grand Bar',\n",
       "       'Anonymous brown globs that come in black and orange wrappers\\t(a.k.a. Mary Janes)',\n",
       "       'Any full-sized candy bar', 'Black Jacks', 'Bonkers (the candy)',\n",
       "       ...\n",
       "       'JOY OTHER', 'DESPAIR OTHER', 'OTHER COMMENTS', 'DRESS', 'DAY',\n",
       "       'MEDIA [Daily Dish]', 'MEDIA [Science]', 'MEDIA [ESPN]',\n",
       "       'MEDIA [Yahoo]', 'k Coordinates (x, y)'],\n",
       "      dtype='object', length=118)"
      ]
     },
     "execution_count": 32,
     "metadata": {},
     "output_type": "execute_result"
    }
   ],
   "source": [
    "candy.columns"
   ]
  },
  {
   "cell_type": "code",
   "execution_count": 33,
   "metadata": {
    "colab": {
     "base_uri": "https://localhost:8080/",
     "height": 302
    },
    "colab_type": "code",
    "id": "3cBQcugFJDTt",
    "outputId": "a0a5f4c4-d4c1-4769-fd60-5a63a70858b3"
   },
   "outputs": [
    {
     "data": {
      "text/plain": [
       "<matplotlib.axes._subplots.AxesSubplot at 0x11663efa8d0>"
      ]
     },
     "execution_count": 33,
     "metadata": {},
     "output_type": "execute_result"
    },
    {
     "data": {
      "image/png": "[encoded data removed]",
      "text/plain": [
       "<Figure size 432x288 with 1 Axes>"
      ]
     },
     "metadata": {
      "needs_background": "light"
     },
     "output_type": "display_data"
    }
   ],
   "source": [
    "sns.countplot(candy['GOING OUT?'])"
   ]
  },
  {
   "cell_type": "code",
   "execution_count": 34,
   "metadata": {
    "colab": {
     "base_uri": "https://localhost:8080/",
     "height": 67
    },
    "colab_type": "code",
    "id": "hdqvw5rbJkli",
    "outputId": "1c7426f8-a620-4e3b-8106-66a0e7cd7965"
   },
   "outputs": [
    {
     "data": {
      "text/plain": [
       "No     2013\n",
       "Yes     290\n",
       "Name: GOING OUT?, dtype: int64"
      ]
     },
     "execution_count": 34,
     "metadata": {},
     "output_type": "execute_result"
    }
   ],
   "source": [
    "candy['GOING OUT?'].value_counts()"
   ]
  },
  {
   "cell_type": "markdown",
   "metadata": {},
   "source": [
    "#### most people are staying home, okay"
   ]
  },
  {
   "cell_type": "code",
   "execution_count": 35,
   "metadata": {
    "colab": {
     "base_uri": "https://localhost:8080/",
     "height": 34
    },
    "colab_type": "code",
    "id": "9uA_C6OFJqyN",
    "outputId": "90ae367b-3c42-4a74-daaf-2cc0677bc6f3"
   },
   "outputs": [
    {
     "data": {
      "text/plain": [
       "110"
      ]
     },
     "execution_count": 35,
     "metadata": {},
     "output_type": "execute_result"
    }
   ],
   "source": [
    "candy['GOING OUT?'].isnull().sum()"
   ]
  },
  {
   "cell_type": "markdown",
   "metadata": {},
   "source": [
    "#### let's fill those null values with mode"
   ]
  },
  {
   "cell_type": "code",
   "execution_count": 36,
   "metadata": {
    "colab": {},
    "colab_type": "code",
    "id": "cPaYaPADJuVH"
   },
   "outputs": [],
   "source": [
    "candy['GOING OUT?'].fillna('No',inplace=True)"
   ]
  },
  {
   "cell_type": "markdown",
   "metadata": {
    "colab": {},
    "colab_type": "code",
    "id": "uf5hNKaWJ0jU"
   },
   "source": [
    "#### let's now drop column that are not candy"
   ]
  },
  {
   "cell_type": "code",
   "execution_count": 37,
   "metadata": {
    "colab": {},
    "colab_type": "code",
    "id": "wvme450nV34W"
   },
   "outputs": [],
   "source": [
    "candy.drop(['White Bread', 'Whole Wheat anything','Vicodin','Creepy Religious comics/Chick Tracts',\n",
    "        'Real Housewives of Orange County Season 9 Blue-Ray', 'STATE, PROVINCE, COUNTY, ETC'],axis=1,inplace=True)"
   ]
  },
  {
   "cell_type": "code",
   "execution_count": 38,
   "metadata": {
    "colab": {},
    "colab_type": "code",
    "id": "hokpgj3XUosx"
   },
   "outputs": [],
   "source": [
    "candy.drop(['Any full-sized candy bar',\n",
    "            \"Abstained from M&M'ing.\",\n",
    "           'Bonkers (the board game)','Cash, or other forms of legal tender',\n",
    "            'Chardonnay',\n",
    "        'Dental paraphenalia','Dove Bars',\n",
    "            'Generic Brand Acetaminophen',\n",
    "           'Broken glow stick',\n",
    "            'Hugs (actual physical hugs)',\n",
    "           \"Independent M&M's\",'Jolly Rancher (bad flavor)',\n",
    "            'Nerds','Pencils','Regular M&Ms',],axis=1,inplace=True)"
   ]
  },
  {
   "cell_type": "code",
   "execution_count": 39,
   "metadata": {
    "colab": {},
    "colab_type": "code",
    "id": "WAjay1KQdJj1"
   },
   "outputs": [],
   "source": [
    "candy.drop(['JOY OTHER','DESPAIR OTHER', 'OTHER COMMENTS','DRESS'],axis=1,inplace=True)"
   ]
  },
  {
   "cell_type": "code",
   "execution_count": 40,
   "metadata": {
    "colab": {},
    "colab_type": "code",
    "id": "pTSQi4CUjpY9"
   },
   "outputs": [],
   "source": [
    "candy.drop(['MEDIA [Daily Dish]', 'MEDIA [Science]', 'MEDIA [ESPN]',\n",
    "       'MEDIA [Yahoo]', 'k Coordinates (x, y)'],axis=1,inplace=True)"
   ]
  },
  {
   "cell_type": "code",
   "execution_count": 41,
   "metadata": {
    "colab": {},
    "colab_type": "code",
    "id": "E-_kw3iTSTSu"
   },
   "outputs": [],
   "source": [
    "candy.GENDER.replace('Other','I\\'d rather not say',inplace=True)"
   ]
  },
  {
   "cell_type": "code",
   "execution_count": 42,
   "metadata": {
    "colab": {
     "base_uri": "https://localhost:8080/",
     "height": 84
    },
    "colab_type": "code",
    "id": "WmhpbmyoSEc7",
    "outputId": "02330489-88ca-4647-e0b6-35e3d644d905"
   },
   "outputs": [
    {
     "data": {
      "text/plain": [
       "Male                  1443\n",
       "Female                 825\n",
       "I'd rather not say     104\n",
       "Name: GENDER, dtype: int64"
      ]
     },
     "execution_count": 42,
     "metadata": {},
     "output_type": "execute_result"
    }
   ],
   "source": [
    "candy.GENDER.value_counts()"
   ]
  },
  {
   "cell_type": "code",
   "execution_count": 43,
   "metadata": {
    "colab": {},
    "colab_type": "code",
    "id": "0PebDtNHTNSI"
   },
   "outputs": [],
   "source": [
    "candy.GENDER.fillna('Male',inplace=True)"
   ]
  },
  {
   "cell_type": "code",
   "execution_count": 44,
   "metadata": {
    "colab": {},
    "colab_type": "code",
    "id": "4bCKjouuVe26"
   },
   "outputs": [],
   "source": [
    "candy.rename({'Vials of pure high fructose corn syrup, for main-lining into your vein':'Corn syrup',\n",
    "             'Tolberone something or other':'Toblerone',\n",
    "              'Peanut M&MÕs':'PeanutM&Ms',},axis=1,inplace=True)"
   ]
  },
  {
   "cell_type": "code",
   "execution_count": 45,
   "metadata": {},
   "outputs": [
    {
     "data": {
      "text/plain": [
       "array(['GOING OUT?', 'GENDER', 'AGE', 'COUNTRY', '100 Grand Bar',\n",
       "       'Anonymous brown globs that come in black and orange wrappers\\t(a.k.a. Mary Janes)',\n",
       "       'Black Jacks', 'Bonkers (the candy)', 'Bottle Caps',\n",
       "       \"Box'o'Raisins\", 'Butterfinger', 'Cadbury Creme Eggs',\n",
       "       'Candy Corn',\n",
       "       'Candy that is clearly just the stuff given out for free at restaurants',\n",
       "       'Caramellos', 'Chick-o-Sticks (we donÕt know what that is)',\n",
       "       'Chiclets', 'Coffee Crisp', 'Dots', 'Fuzzy Peaches', 'Glow sticks',\n",
       "       'Goo Goo Clusters', \"Good N' Plenty\", 'Gum from baseball cards',\n",
       "       'Gummy Bears straight up', 'Hard Candy', 'Healthy Fruit',\n",
       "       'Heath Bar', \"Hershey's Dark Chocolate\",\n",
       "       'HersheyÕs Milk Chocolate', \"Hershey's Kisses\",\n",
       "       'Jolly Ranchers (good flavor)', 'JoyJoy (Mit Iodine!)',\n",
       "       'Junior Mints', 'Senior Mints', 'Kale smoothie',\n",
       "       'Kinder Happy Hippo', 'Kit Kat', 'LaffyTaffy', 'LemonHeads',\n",
       "       'Licorice (not black)', 'Licorice (yes black)', 'Lindt Truffle',\n",
       "       'Lollipops', 'Mars', 'Maynards', 'Mike and Ike', 'Milk Duds',\n",
       "       'Milky Way', 'PeanutM&Ms', \"Blue M&M's\", \"Red M&M's\",\n",
       "       \"Green Party M&M's\", 'Minibags of chips', 'Mint Kisses',\n",
       "       'Mint Juleps', 'Mr. Goodbar', 'Necco Wafers', 'Nestle Crunch',\n",
       "       \"Now'n'Laters\", 'Peeps', 'Pixy Stix', 'ReeseÕs Peanut Butter Cups',\n",
       "       \"Reese's Pieces\", 'Reggie Jackson Bar', 'Rolos',\n",
       "       'Sandwich-sized bags filled with BooBerry Crunch', 'Skittles',\n",
       "       'Smarties (American)', 'Smarties (Commonwealth)', 'Snickers',\n",
       "       'Sourpatch Kids (i.e. abominations of nature)', 'Spotted Dick',\n",
       "       'Starburst', 'Sweet Tarts', 'Swedish Fish',\n",
       "       'Sweetums (a friend to diabetes)', 'Take 5', 'Tic Tacs',\n",
       "       'Those odd marshmallow circus peanut things', 'Three Musketeers',\n",
       "       'Toblerone', 'Trail Mix', 'Twix', 'Corn syrup',\n",
       "       'Whatchamacallit Bars', 'York Peppermint Patties', 'DAY'],\n",
       "      dtype=object)"
      ]
     },
     "execution_count": 45,
     "metadata": {},
     "output_type": "execute_result"
    }
   ],
   "source": [
    "candy.columns.values"
   ]
  },
  {
   "cell_type": "code",
   "execution_count": 46,
   "metadata": {
    "colab": {
     "base_uri": "https://localhost:8080/",
     "height": 34
    },
    "colab_type": "code",
    "id": "pdcOsHuoadkz",
    "outputId": "b98c416f-84e4-491b-bfa9-6b2ecc6de544"
   },
   "outputs": [
    {
     "data": {
      "text/plain": [
       "(2413, 88)"
      ]
     },
     "execution_count": 46,
     "metadata": {},
     "output_type": "execute_result"
    }
   ],
   "source": [
    "candy.shape"
   ]
  },
  {
   "cell_type": "code",
   "execution_count": 47,
   "metadata": {
    "colab": {},
    "colab_type": "code",
    "id": "JygnTIrIbO8t"
   },
   "outputs": [],
   "source": [
    "n=candy.isnull().sum()\n",
    "c=[]\n",
    "num=0\n",
    "for x in n:\n",
    "  i=x/2412\n",
    "  if i>0.3:\n",
    "    c.append(num)\n",
    "  num+=1"
   ]
  },
  {
   "cell_type": "code",
   "execution_count": 48,
   "metadata": {
    "colab": {},
    "colab_type": "code",
    "id": "-dXn8oeicpfb"
   },
   "outputs": [],
   "source": [
    "candy.drop(candy.columns[c],axis=1,inplace=True)"
   ]
  },
  {
   "cell_type": "code",
   "execution_count": 49,
   "metadata": {},
   "outputs": [
    {
     "data": {
      "text/plain": [
       "array(['GOING OUT?', 'GENDER', 'AGE', 'COUNTRY',\n",
       "       'Anonymous brown globs that come in black and orange wrappers\\t(a.k.a. Mary Janes)',\n",
       "       \"Box'o'Raisins\", 'Butterfinger', 'Cadbury Creme Eggs',\n",
       "       'Candy Corn',\n",
       "       'Candy that is clearly just the stuff given out for free at restaurants',\n",
       "       'Chiclets', 'Dots', 'Glow sticks', \"Good N' Plenty\",\n",
       "       'Gum from baseball cards', 'Gummy Bears straight up', 'Hard Candy',\n",
       "       'Healthy Fruit', 'Heath Bar', \"Hershey's Dark Chocolate\",\n",
       "       'HersheyÕs Milk Chocolate', \"Hershey's Kisses\",\n",
       "       'Jolly Ranchers (good flavor)', 'Junior Mints', 'Kit Kat',\n",
       "       'LaffyTaffy', 'LemonHeads', 'Licorice (not black)',\n",
       "       'Licorice (yes black)', 'Lindt Truffle', 'Lollipops', 'Mars',\n",
       "       'Mike and Ike', 'Milk Duds', 'Milky Way', 'PeanutM&Ms',\n",
       "       \"Blue M&M's\", \"Red M&M's\", 'Minibags of chips', 'Nestle Crunch',\n",
       "       'Peeps', 'Pixy Stix', 'ReeseÕs Peanut Butter Cups',\n",
       "       \"Reese's Pieces\", 'Rolos', 'Skittles', 'Smarties (American)',\n",
       "       'Snickers', 'Sourpatch Kids (i.e. abominations of nature)',\n",
       "       'Starburst', 'Sweet Tarts', 'Swedish Fish', 'Tic Tacs',\n",
       "       'Those odd marshmallow circus peanut things', 'Three Musketeers',\n",
       "       'Toblerone', 'Trail Mix', 'Twix', 'York Peppermint Patties', 'DAY'],\n",
       "      dtype=object)"
      ]
     },
     "execution_count": 49,
     "metadata": {},
     "output_type": "execute_result"
    }
   ],
   "source": [
    "candy.columns.values"
   ]
  },
  {
   "cell_type": "code",
   "execution_count": 50,
   "metadata": {
    "colab": {},
    "colab_type": "code",
    "id": "iL1DZw0ghwNL"
   },
   "outputs": [],
   "source": [
    "candy = candy.fillna(candy.mode().iloc[0])"
   ]
  },
  {
   "cell_type": "code",
   "execution_count": 51,
   "metadata": {
    "colab": {},
    "colab_type": "code",
    "id": "4uQKZReSinuo"
   },
   "outputs": [],
   "source": [
    "candy['GOING OUT?']=candy['GOING OUT?'].astype('category').cat.codes"
   ]
  },
  {
   "cell_type": "code",
   "execution_count": 52,
   "metadata": {
    "colab": {},
    "colab_type": "code",
    "id": "uyIJGr9DiyxQ"
   },
   "outputs": [],
   "source": [
    "candy['GENDER']=candy['GENDER'].astype('category').cat.codes"
   ]
  },
  {
   "cell_type": "code",
   "execution_count": 53,
   "metadata": {
    "colab": {},
    "colab_type": "code",
    "id": "imd0ZGdci4qi"
   },
   "outputs": [],
   "source": [
    "candy['COUNTRY']=candy['COUNTRY'].astype('category').cat.codes"
   ]
  },
  {
   "cell_type": "code",
   "execution_count": 54,
   "metadata": {},
   "outputs": [],
   "source": [
    "candy.rename({'Anonymous brown globs that come in black and orange wrappers\\t(a.k.a. Mary Janes)':'Mary Janes',\n",
    "             'Candy that is clearly just the stuff given out for free at restaurants':'free candy',\n",
    "             'Those odd marshmallow circus peanut things':'Marshmallow',\n",
    "},inplace=True,axis=1)"
   ]
  },
  {
   "cell_type": "code",
   "execution_count": 55,
   "metadata": {
    "colab": {
     "base_uri": "https://localhost:8080/",
     "height": 34
    },
    "colab_type": "code",
    "id": "RO1IGSLujoO6",
    "outputId": "444c3232-f248-4911-ba9b-e6be3774f608"
   },
   "outputs": [
    {
     "data": {
      "text/plain": [
       "(2413, 60)"
      ]
     },
     "execution_count": 55,
     "metadata": {},
     "output_type": "execute_result"
    }
   ],
   "source": [
    "candy.shape"
   ]
  },
  {
   "cell_type": "code",
   "execution_count": 56,
   "metadata": {},
   "outputs": [],
   "source": [
    "candy.drop_duplicates(inplace=True)"
   ]
  },
  {
   "cell_type": "code",
   "execution_count": 57,
   "metadata": {},
   "outputs": [
    {
     "data": {
      "text/plain": [
       "GOING OUT?                                      0\n",
       "GENDER                                          0\n",
       "AGE                                             0\n",
       "COUNTRY                                         0\n",
       "Mary Janes                                      0\n",
       "Box'o'Raisins                                   0\n",
       "Butterfinger                                    0\n",
       "Cadbury Creme Eggs                              0\n",
       "Candy Corn                                      0\n",
       "free candy                                      0\n",
       "Chiclets                                        0\n",
       "Dots                                            0\n",
       "Glow sticks                                     0\n",
       "Good N' Plenty                                  0\n",
       "Gum from baseball cards                         0\n",
       "Gummy Bears straight up                         0\n",
       "Hard Candy                                      0\n",
       "Healthy Fruit                                   0\n",
       "Heath Bar                                       0\n",
       "Hershey's Dark Chocolate                        0\n",
       "HersheyÕs Milk Chocolate                        0\n",
       "Hershey's Kisses                                0\n",
       "Jolly Ranchers (good flavor)                    0\n",
       "Junior Mints                                    0\n",
       "Kit Kat                                         0\n",
       "LaffyTaffy                                      0\n",
       "LemonHeads                                      0\n",
       "Licorice (not black)                            0\n",
       "Licorice (yes black)                            0\n",
       "Lindt Truffle                                   0\n",
       "Lollipops                                       0\n",
       "Mars                                            0\n",
       "Mike and Ike                                    0\n",
       "Milk Duds                                       0\n",
       "Milky Way                                       0\n",
       "PeanutM&Ms                                      0\n",
       "Blue M&M's                                      0\n",
       "Red M&M's                                       0\n",
       "Minibags of chips                               0\n",
       "Nestle Crunch                                   0\n",
       "Peeps                                           0\n",
       "Pixy Stix                                       0\n",
       "ReeseÕs Peanut Butter Cups                      0\n",
       "Reese's Pieces                                  0\n",
       "Rolos                                           0\n",
       "Skittles                                        0\n",
       "Smarties (American)                             0\n",
       "Snickers                                        0\n",
       "Sourpatch Kids (i.e. abominations of nature)    0\n",
       "Starburst                                       0\n",
       "Sweet Tarts                                     0\n",
       "Swedish Fish                                    0\n",
       "Tic Tacs                                        0\n",
       "Marshmallow                                     0\n",
       "Three Musketeers                                0\n",
       "Toblerone                                       0\n",
       "Trail Mix                                       0\n",
       "Twix                                            0\n",
       "York Peppermint Patties                         0\n",
       "DAY                                             0\n",
       "dtype: int64"
      ]
     },
     "execution_count": 57,
     "metadata": {},
     "output_type": "execute_result"
    }
   ],
   "source": [
    "candy.isnull().sum()"
   ]
  },
  {
   "cell_type": "code",
   "execution_count": 58,
   "metadata": {
    "colab": {
     "base_uri": "https://localhost:8080/",
     "height": 215
    },
    "colab_type": "code",
    "id": "UWfOP158ijLp",
    "outputId": "6704acfa-e19b-4570-b319-05ebaeff6fb7"
   },
   "outputs": [
    {
     "data": {
      "text/html": [
       "<div>\n",
       "<style scoped>\n",
       "    .dataframe tbody tr th:only-of-type {\n",
       "        vertical-align: middle;\n",
       "    }\n",
       "\n",
       "    .dataframe tbody tr th {\n",
       "        vertical-align: top;\n",
       "    }\n",
       "\n",
       "    .dataframe thead th {\n",
       "        text-align: right;\n",
       "    }\n",
       "</style>\n",
       "<table border=\"1\" class=\"dataframe\">\n",
       "  <thead>\n",
       "    <tr style=\"text-align: right;\">\n",
       "      <th></th>\n",
       "      <th>GOING OUT?</th>\n",
       "      <th>GENDER</th>\n",
       "      <th>AGE</th>\n",
       "      <th>COUNTRY</th>\n",
       "      <th>Mary Janes</th>\n",
       "      <th>Box'o'Raisins</th>\n",
       "      <th>Butterfinger</th>\n",
       "      <th>Cadbury Creme Eggs</th>\n",
       "      <th>Candy Corn</th>\n",
       "      <th>free candy</th>\n",
       "      <th>...</th>\n",
       "      <th>Sweet Tarts</th>\n",
       "      <th>Swedish Fish</th>\n",
       "      <th>Tic Tacs</th>\n",
       "      <th>Marshmallow</th>\n",
       "      <th>Three Musketeers</th>\n",
       "      <th>Toblerone</th>\n",
       "      <th>Trail Mix</th>\n",
       "      <th>Twix</th>\n",
       "      <th>York Peppermint Patties</th>\n",
       "      <th>DAY</th>\n",
       "    </tr>\n",
       "  </thead>\n",
       "  <tbody>\n",
       "    <tr>\n",
       "      <th>0</th>\n",
       "      <td>0</td>\n",
       "      <td>2</td>\n",
       "      <td>41.0</td>\n",
       "      <td>30</td>\n",
       "      <td>DESPAIR</td>\n",
       "      <td>DESPAIR</td>\n",
       "      <td>JOY</td>\n",
       "      <td>JOY</td>\n",
       "      <td>DESPAIR</td>\n",
       "      <td>DESPAIR</td>\n",
       "      <td>...</td>\n",
       "      <td>JOY</td>\n",
       "      <td>JOY</td>\n",
       "      <td>DESPAIR</td>\n",
       "      <td>DESPAIR</td>\n",
       "      <td>JOY</td>\n",
       "      <td>JOY</td>\n",
       "      <td>DESPAIR</td>\n",
       "      <td>JOY</td>\n",
       "      <td>JOY</td>\n",
       "      <td>Friday</td>\n",
       "    </tr>\n",
       "    <tr>\n",
       "      <th>1</th>\n",
       "      <td>0</td>\n",
       "      <td>2</td>\n",
       "      <td>44.0</td>\n",
       "      <td>30</td>\n",
       "      <td>DESPAIR</td>\n",
       "      <td>DESPAIR</td>\n",
       "      <td>DESPAIR</td>\n",
       "      <td>MEH</td>\n",
       "      <td>MEH</td>\n",
       "      <td>DESPAIR</td>\n",
       "      <td>...</td>\n",
       "      <td>DESPAIR</td>\n",
       "      <td>MEH</td>\n",
       "      <td>DESPAIR</td>\n",
       "      <td>DESPAIR</td>\n",
       "      <td>JOY</td>\n",
       "      <td>JOY</td>\n",
       "      <td>DESPAIR</td>\n",
       "      <td>JOY</td>\n",
       "      <td>DESPAIR</td>\n",
       "      <td>Sunday</td>\n",
       "    </tr>\n",
       "    <tr>\n",
       "      <th>2</th>\n",
       "      <td>0</td>\n",
       "      <td>2</td>\n",
       "      <td>49.0</td>\n",
       "      <td>30</td>\n",
       "      <td>DESPAIR</td>\n",
       "      <td>DESPAIR</td>\n",
       "      <td>JOY</td>\n",
       "      <td>JOY</td>\n",
       "      <td>DESPAIR</td>\n",
       "      <td>DESPAIR</td>\n",
       "      <td>...</td>\n",
       "      <td>JOY</td>\n",
       "      <td>JOY</td>\n",
       "      <td>DESPAIR</td>\n",
       "      <td>DESPAIR</td>\n",
       "      <td>JOY</td>\n",
       "      <td>JOY</td>\n",
       "      <td>DESPAIR</td>\n",
       "      <td>JOY</td>\n",
       "      <td>JOY</td>\n",
       "      <td>Friday</td>\n",
       "    </tr>\n",
       "    <tr>\n",
       "      <th>3</th>\n",
       "      <td>0</td>\n",
       "      <td>2</td>\n",
       "      <td>40.0</td>\n",
       "      <td>30</td>\n",
       "      <td>DESPAIR</td>\n",
       "      <td>DESPAIR</td>\n",
       "      <td>MEH</td>\n",
       "      <td>MEH</td>\n",
       "      <td>DESPAIR</td>\n",
       "      <td>DESPAIR</td>\n",
       "      <td>...</td>\n",
       "      <td>MEH</td>\n",
       "      <td>JOY</td>\n",
       "      <td>MEH</td>\n",
       "      <td>DESPAIR</td>\n",
       "      <td>DESPAIR</td>\n",
       "      <td>JOY</td>\n",
       "      <td>MEH</td>\n",
       "      <td>JOY</td>\n",
       "      <td>DESPAIR</td>\n",
       "      <td>Sunday</td>\n",
       "    </tr>\n",
       "    <tr>\n",
       "      <th>4</th>\n",
       "      <td>0</td>\n",
       "      <td>2</td>\n",
       "      <td>23.0</td>\n",
       "      <td>30</td>\n",
       "      <td>DESPAIR</td>\n",
       "      <td>DESPAIR</td>\n",
       "      <td>MEH</td>\n",
       "      <td>MEH</td>\n",
       "      <td>DESPAIR</td>\n",
       "      <td>DESPAIR</td>\n",
       "      <td>...</td>\n",
       "      <td>JOY</td>\n",
       "      <td>MEH</td>\n",
       "      <td>DESPAIR</td>\n",
       "      <td>DESPAIR</td>\n",
       "      <td>JOY</td>\n",
       "      <td>JOY</td>\n",
       "      <td>DESPAIR</td>\n",
       "      <td>JOY</td>\n",
       "      <td>JOY</td>\n",
       "      <td>Friday</td>\n",
       "    </tr>\n",
       "  </tbody>\n",
       "</table>\n",
       "<p>5 rows × 60 columns</p>\n",
       "</div>"
      ],
      "text/plain": [
       "   GOING OUT?  GENDER   AGE  COUNTRY Mary Janes Box'o'Raisins Butterfinger  \\\n",
       "0           0       2  41.0       30    DESPAIR       DESPAIR          JOY   \n",
       "1           0       2  44.0       30    DESPAIR       DESPAIR      DESPAIR   \n",
       "2           0       2  49.0       30    DESPAIR       DESPAIR          JOY   \n",
       "3           0       2  40.0       30    DESPAIR       DESPAIR          MEH   \n",
       "4           0       2  23.0       30    DESPAIR       DESPAIR          MEH   \n",
       "\n",
       "  Cadbury Creme Eggs Candy Corn free candy  ... Sweet Tarts Swedish Fish  \\\n",
       "0                JOY    DESPAIR    DESPAIR  ...         JOY          JOY   \n",
       "1                MEH        MEH    DESPAIR  ...     DESPAIR          MEH   \n",
       "2                JOY    DESPAIR    DESPAIR  ...         JOY          JOY   \n",
       "3                MEH    DESPAIR    DESPAIR  ...         MEH          JOY   \n",
       "4                MEH    DESPAIR    DESPAIR  ...         JOY          MEH   \n",
       "\n",
       "  Tic Tacs Marshmallow Three Musketeers Toblerone Trail Mix Twix  \\\n",
       "0  DESPAIR     DESPAIR              JOY       JOY   DESPAIR  JOY   \n",
       "1  DESPAIR     DESPAIR              JOY       JOY   DESPAIR  JOY   \n",
       "2  DESPAIR     DESPAIR              JOY       JOY   DESPAIR  JOY   \n",
       "3      MEH     DESPAIR          DESPAIR       JOY       MEH  JOY   \n",
       "4  DESPAIR     DESPAIR              JOY       JOY   DESPAIR  JOY   \n",
       "\n",
       "  York Peppermint Patties     DAY  \n",
       "0                     JOY  Friday  \n",
       "1                 DESPAIR  Sunday  \n",
       "2                     JOY  Friday  \n",
       "3                 DESPAIR  Sunday  \n",
       "4                     JOY  Friday  \n",
       "\n",
       "[5 rows x 60 columns]"
      ]
     },
     "execution_count": 58,
     "metadata": {},
     "output_type": "execute_result"
    }
   ],
   "source": [
    "candy.head()"
   ]
  },
  {
   "cell_type": "code",
   "execution_count": null,
   "metadata": {},
   "outputs": [],
   "source": []
  }
 ],
 "metadata": {
  "colab": {
   "name": "candydata.ipynb",
   "provenance": []
  },
  "kernelspec": {
   "display_name": "Python 3",
   "language": "python",
   "name": "python3"
  },
  "language_info": {
   "codemirror_mode": {
    "name": "ipython",
    "version": 3
   },
   "file_extension": ".py",
   "mimetype": "text/x-python",
   "name": "python",
   "nbconvert_exporter": "python",
   "pygments_lexer": "ipython3",
   "version": "3.7.3"
  }
 },
 "nbformat": 4,
 "nbformat_minor": 1
}
