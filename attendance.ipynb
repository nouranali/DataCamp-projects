{
  "nbformat": 4,
  "nbformat_minor": 0,
  "metadata": {
    "colab": {
      "name": "attendance.ipynb",
      "provenance": [],
      "collapsed_sections": []
    },
    "kernelspec": {
      "name": "python3",
      "display_name": "Python 3"
    }
  },
  "cells": [
    {
      "cell_type": "code",
      "metadata": {
        "id": "AhwDV_iSUS58",
        "colab_type": "code",
        "colab": {}
      },
      "source": [
        "import pandas as pd\n",
        "import numpy as np\n",
        "from google.colab import files"
      ],
      "execution_count": 0,
      "outputs": []
    },
    {
      "cell_type": "code",
      "metadata": {
        "id": "vivpRW7iUmfs",
        "colab_type": "code",
        "colab": {}
      },
      "source": [
        "up=files.upload()"
      ],
      "execution_count": 0,
      "outputs": []
    },
    {
      "cell_type": "code",
      "metadata": {
        "id": "a_56Uz5AVH3G",
        "colab_type": "code",
        "colab": {}
      },
      "source": [
        "df=pd.read_excel('attendance.xls',header=1,na_values=['‡','(†)'])"
      ],
      "execution_count": 0,
      "outputs": []
    },
    {
      "cell_type": "code",
      "metadata": {
        "id": "ew7JsjCMVoYD",
        "colab_type": "code",
        "colab": {
          "base_uri": "https://localhost:8080/",
          "height": 366
        },
        "outputId": "c50923b4-f52a-48a3-bb71-6aac8449670a"
      },
      "source": [
        "df.head()"
      ],
      "execution_count": 20,
      "outputs": [
        {
          "output_type": "execute_result",
          "data": {
            "text/html": [
              "<div>\n",
              "<style scoped>\n",
              "    .dataframe tbody tr th:only-of-type {\n",
              "        vertical-align: middle;\n",
              "    }\n",
              "\n",
              "    .dataframe tbody tr th {\n",
              "        vertical-align: top;\n",
              "    }\n",
              "\n",
              "    .dataframe thead th {\n",
              "        text-align: right;\n",
              "    }\n",
              "</style>\n",
              "<table border=\"1\" class=\"dataframe\">\n",
              "  <thead>\n",
              "    <tr style=\"text-align: right;\">\n",
              "      <th></th>\n",
              "      <th>Unnamed: 0</th>\n",
              "      <th>ADA as percent of enrollment</th>\n",
              "      <th>Unnamed: 2</th>\n",
              "      <th>Average hours in school day</th>\n",
              "      <th>Unnamed: 4</th>\n",
              "      <th>Average days in school year</th>\n",
              "      <th>Unnamed: 6</th>\n",
              "      <th>Average hours in school year</th>\n",
              "      <th>Unnamed: 8</th>\n",
              "      <th>ADA as percent of enrollment.1</th>\n",
              "      <th>Unnamed: 10</th>\n",
              "      <th>Average hours in school day.1</th>\n",
              "      <th>Unnamed: 12</th>\n",
              "      <th>ADA as percent of enrollment.2</th>\n",
              "      <th>Unnamed: 14</th>\n",
              "      <th>Average hours in school day.2</th>\n",
              "      <th>Unnamed: 16</th>\n",
              "    </tr>\n",
              "  </thead>\n",
              "  <tbody>\n",
              "    <tr>\n",
              "      <th>0</th>\n",
              "      <td>1</td>\n",
              "      <td>2.000000</td>\n",
              "      <td>NaN</td>\n",
              "      <td>3.00000</td>\n",
              "      <td>NaN</td>\n",
              "      <td>4.0</td>\n",
              "      <td>NaN</td>\n",
              "      <td>5.0000</td>\n",
              "      <td>NaN</td>\n",
              "      <td>6.000000</td>\n",
              "      <td>NaN</td>\n",
              "      <td>7.000000</td>\n",
              "      <td>NaN</td>\n",
              "      <td>8.000000</td>\n",
              "      <td>NaN</td>\n",
              "      <td>9.000000</td>\n",
              "      <td>NaN</td>\n",
              "    </tr>\n",
              "    <tr>\n",
              "      <th>1</th>\n",
              "      <td>United States ........</td>\n",
              "      <td>93.078962</td>\n",
              "      <td>0.218555</td>\n",
              "      <td>6.64470</td>\n",
              "      <td>0.017650</td>\n",
              "      <td>180.0</td>\n",
              "      <td>0.142993</td>\n",
              "      <td>1192.6472</td>\n",
              "      <td>3.0859</td>\n",
              "      <td>94.004983</td>\n",
              "      <td>0.269369</td>\n",
              "      <td>6.656056</td>\n",
              "      <td>0.015998</td>\n",
              "      <td>91.118081</td>\n",
              "      <td>0.432223</td>\n",
              "      <td>6.594394</td>\n",
              "      <td>0.040308</td>\n",
              "    </tr>\n",
              "    <tr>\n",
              "      <th>2</th>\n",
              "      <td>Alabama .................</td>\n",
              "      <td>93.812371</td>\n",
              "      <td>1.237261</td>\n",
              "      <td>7.02852</td>\n",
              "      <td>0.065621</td>\n",
              "      <td>180.0</td>\n",
              "      <td>0.755110</td>\n",
              "      <td>1266.6205</td>\n",
              "      <td>12.3343</td>\n",
              "      <td>93.776375</td>\n",
              "      <td>1.839154</td>\n",
              "      <td>7.038473</td>\n",
              "      <td>0.075944</td>\n",
              "      <td>94.561001</td>\n",
              "      <td>0.379280</td>\n",
              "      <td>7.137239</td>\n",
              "      <td>0.173120</td>\n",
              "    </tr>\n",
              "    <tr>\n",
              "      <th>3</th>\n",
              "      <td>Alaska ..................</td>\n",
              "      <td>89.917597</td>\n",
              "      <td>1.215976</td>\n",
              "      <td>6.47688</td>\n",
              "      <td>0.049882</td>\n",
              "      <td>180.0</td>\n",
              "      <td>3.427735</td>\n",
              "      <td>1162.9084</td>\n",
              "      <td>22.8639</td>\n",
              "      <td>91.281537</td>\n",
              "      <td>1.563482</td>\n",
              "      <td>6.486785</td>\n",
              "      <td>0.053082</td>\n",
              "      <td>93.240876</td>\n",
              "      <td>1.573715</td>\n",
              "      <td>6.240865</td>\n",
              "      <td>0.145993</td>\n",
              "    </tr>\n",
              "    <tr>\n",
              "      <th>4</th>\n",
              "      <td>Arizona .................</td>\n",
              "      <td>89.036961</td>\n",
              "      <td>2.952601</td>\n",
              "      <td>6.43369</td>\n",
              "      <td>0.091917</td>\n",
              "      <td>181.0</td>\n",
              "      <td>1.678664</td>\n",
              "      <td>1159.1144</td>\n",
              "      <td>14.4327</td>\n",
              "      <td>88.904393</td>\n",
              "      <td>3.905033</td>\n",
              "      <td>6.443155</td>\n",
              "      <td>0.102053</td>\n",
              "      <td>88.979716</td>\n",
              "      <td>3.220584</td>\n",
              "      <td>6.369092</td>\n",
              "      <td>0.248824</td>\n",
              "    </tr>\n",
              "  </tbody>\n",
              "</table>\n",
              "</div>"
            ],
            "text/plain": [
              "                  Unnamed: 0  ...  Unnamed: 16\n",
              "0                          1  ...          NaN\n",
              "1     United States ........  ...     0.040308\n",
              "2  Alabama .................  ...     0.173120\n",
              "3  Alaska ..................  ...     0.145993\n",
              "4  Arizona .................  ...     0.248824\n",
              "\n",
              "[5 rows x 17 columns]"
            ]
          },
          "metadata": {
            "tags": []
          },
          "execution_count": 20
        }
      ]
    },
    {
      "cell_type": "code",
      "metadata": {
        "id": "diOHJQFyV1rQ",
        "colab_type": "code",
        "colab": {
          "base_uri": "https://localhost:8080/",
          "height": 302
        },
        "outputId": "9ca32295-eb44-42d0-e637-a386f8023216"
      },
      "source": [
        "sorted(df)"
      ],
      "execution_count": 21,
      "outputs": [
        {
          "output_type": "execute_result",
          "data": {
            "text/plain": [
              "['ADA as percent of enrollment',\n",
              " 'ADA as percent of enrollment.1',\n",
              " 'ADA as percent of enrollment.2',\n",
              " 'Average days in school year',\n",
              " 'Average hours in school day',\n",
              " 'Average hours in school day.1',\n",
              " 'Average hours in school day.2',\n",
              " 'Average hours in school year',\n",
              " 'Unnamed: 0',\n",
              " 'Unnamed: 10',\n",
              " 'Unnamed: 12',\n",
              " 'Unnamed: 14',\n",
              " 'Unnamed: 16',\n",
              " 'Unnamed: 2',\n",
              " 'Unnamed: 4',\n",
              " 'Unnamed: 6',\n",
              " 'Unnamed: 8']"
            ]
          },
          "metadata": {
            "tags": []
          },
          "execution_count": 21
        }
      ]
    },
    {
      "cell_type": "code",
      "metadata": {
        "id": "m2gVGEuKWYDF",
        "colab_type": "code",
        "colab": {
          "base_uri": "https://localhost:8080/",
          "height": 319
        },
        "outputId": "09f3602d-c5d3-4bfd-82f4-4bb6d70bc0b3"
      },
      "source": [
        "df.isnull().sum()"
      ],
      "execution_count": 12,
      "outputs": [
        {
          "output_type": "execute_result",
          "data": {
            "text/plain": [
              "Unnamed: 0                         9\n",
              "ADA as percent of enrollment       9\n",
              "Unnamed: 2                        10\n",
              "Average hours in school day        9\n",
              "Unnamed: 4                        10\n",
              "Average days in school year        9\n",
              "Unnamed: 6                        10\n",
              "Average hours in school year       9\n",
              "Unnamed: 8                        10\n",
              "ADA as percent of enrollment.1     9\n",
              "Unnamed: 10                       10\n",
              "Average hours in school day.1      9\n",
              "Unnamed: 12                       10\n",
              "ADA as percent of enrollment.2    14\n",
              "Unnamed: 14                       15\n",
              "Average hours in school day.2     13\n",
              "Unnamed: 16                       14\n",
              "dtype: int64"
            ]
          },
          "metadata": {
            "tags": []
          },
          "execution_count": 12
        }
      ]
    },
    {
      "cell_type": "code",
      "metadata": {
        "id": "Gyw1c0NlWgQ5",
        "colab_type": "code",
        "colab": {
          "base_uri": "https://localhost:8080/",
          "height": 34
        },
        "outputId": "1afb5274-8991-4ad1-c173-396a4eeccaa9"
      },
      "source": [
        "df.shape"
      ],
      "execution_count": 13,
      "outputs": [
        {
          "output_type": "execute_result",
          "data": {
            "text/plain": [
              "(62, 17)"
            ]
          },
          "metadata": {
            "tags": []
          },
          "execution_count": 13
        }
      ]
    },
    {
      "cell_type": "code",
      "metadata": {
        "id": "vLqMe6v0WiYE",
        "colab_type": "code",
        "colab": {}
      },
      "source": [
        "df.drop(['Unnamed: 10',\n",
        " 'Unnamed: 12',\n",
        " 'Unnamed: 14',\n",
        " 'Unnamed: 16',\n",
        " 'Unnamed: 2',\n",
        " 'Unnamed: 4',\n",
        " 'Unnamed: 6',\n",
        " 'Unnamed: 8'],inplace=True,axis=1)"
      ],
      "execution_count": 0,
      "outputs": []
    },
    {
      "cell_type": "code",
      "metadata": {
        "id": "cVXzjLRiWrtJ",
        "colab_type": "code",
        "colab": {
          "base_uri": "https://localhost:8080/",
          "height": 279
        },
        "outputId": "2a9b9cad-5b0a-4877-dc31-20f3229182b7"
      },
      "source": [
        "df.head()"
      ],
      "execution_count": 23,
      "outputs": [
        {
          "output_type": "execute_result",
          "data": {
            "text/html": [
              "<div>\n",
              "<style scoped>\n",
              "    .dataframe tbody tr th:only-of-type {\n",
              "        vertical-align: middle;\n",
              "    }\n",
              "\n",
              "    .dataframe tbody tr th {\n",
              "        vertical-align: top;\n",
              "    }\n",
              "\n",
              "    .dataframe thead th {\n",
              "        text-align: right;\n",
              "    }\n",
              "</style>\n",
              "<table border=\"1\" class=\"dataframe\">\n",
              "  <thead>\n",
              "    <tr style=\"text-align: right;\">\n",
              "      <th></th>\n",
              "      <th>Unnamed: 0</th>\n",
              "      <th>ADA as percent of enrollment</th>\n",
              "      <th>Average hours in school day</th>\n",
              "      <th>Average days in school year</th>\n",
              "      <th>Average hours in school year</th>\n",
              "      <th>ADA as percent of enrollment.1</th>\n",
              "      <th>Average hours in school day.1</th>\n",
              "      <th>ADA as percent of enrollment.2</th>\n",
              "      <th>Average hours in school day.2</th>\n",
              "    </tr>\n",
              "  </thead>\n",
              "  <tbody>\n",
              "    <tr>\n",
              "      <th>0</th>\n",
              "      <td>1</td>\n",
              "      <td>2.000000</td>\n",
              "      <td>3.00000</td>\n",
              "      <td>4.0</td>\n",
              "      <td>5.0000</td>\n",
              "      <td>6.000000</td>\n",
              "      <td>7.000000</td>\n",
              "      <td>8.000000</td>\n",
              "      <td>9.000000</td>\n",
              "    </tr>\n",
              "    <tr>\n",
              "      <th>1</th>\n",
              "      <td>United States ........</td>\n",
              "      <td>93.078962</td>\n",
              "      <td>6.64470</td>\n",
              "      <td>180.0</td>\n",
              "      <td>1192.6472</td>\n",
              "      <td>94.004983</td>\n",
              "      <td>6.656056</td>\n",
              "      <td>91.118081</td>\n",
              "      <td>6.594394</td>\n",
              "    </tr>\n",
              "    <tr>\n",
              "      <th>2</th>\n",
              "      <td>Alabama .................</td>\n",
              "      <td>93.812371</td>\n",
              "      <td>7.02852</td>\n",
              "      <td>180.0</td>\n",
              "      <td>1266.6205</td>\n",
              "      <td>93.776375</td>\n",
              "      <td>7.038473</td>\n",
              "      <td>94.561001</td>\n",
              "      <td>7.137239</td>\n",
              "    </tr>\n",
              "    <tr>\n",
              "      <th>3</th>\n",
              "      <td>Alaska ..................</td>\n",
              "      <td>89.917597</td>\n",
              "      <td>6.47688</td>\n",
              "      <td>180.0</td>\n",
              "      <td>1162.9084</td>\n",
              "      <td>91.281537</td>\n",
              "      <td>6.486785</td>\n",
              "      <td>93.240876</td>\n",
              "      <td>6.240865</td>\n",
              "    </tr>\n",
              "    <tr>\n",
              "      <th>4</th>\n",
              "      <td>Arizona .................</td>\n",
              "      <td>89.036961</td>\n",
              "      <td>6.43369</td>\n",
              "      <td>181.0</td>\n",
              "      <td>1159.1144</td>\n",
              "      <td>88.904393</td>\n",
              "      <td>6.443155</td>\n",
              "      <td>88.979716</td>\n",
              "      <td>6.369092</td>\n",
              "    </tr>\n",
              "  </tbody>\n",
              "</table>\n",
              "</div>"
            ],
            "text/plain": [
              "                  Unnamed: 0  ...  Average hours in school day.2\n",
              "0                          1  ...                       9.000000\n",
              "1     United States ........  ...                       6.594394\n",
              "2  Alabama .................  ...                       7.137239\n",
              "3  Alaska ..................  ...                       6.240865\n",
              "4  Arizona .................  ...                       6.369092\n",
              "\n",
              "[5 rows x 9 columns]"
            ]
          },
          "metadata": {
            "tags": []
          },
          "execution_count": 23
        }
      ]
    },
    {
      "cell_type": "code",
      "metadata": {
        "id": "yhx0bU6mWvWc",
        "colab_type": "code",
        "colab": {
          "base_uri": "https://localhost:8080/",
          "height": 286
        },
        "outputId": "e539bad2-b8e1-431c-ff54-33d1d7a2c7ec"
      },
      "source": [
        "df.info()"
      ],
      "execution_count": 25,
      "outputs": [
        {
          "output_type": "stream",
          "text": [
            "<class 'pandas.core.frame.DataFrame'>\n",
            "Int64Index: 48 entries, 0 to 61\n",
            "Data columns (total 9 columns):\n",
            " #   Column                          Non-Null Count  Dtype  \n",
            "---  ------                          --------------  -----  \n",
            " 0   Unnamed: 0                      48 non-null     object \n",
            " 1   ADA as percent of enrollment    48 non-null     float64\n",
            " 2   Average hours in school day     48 non-null     float64\n",
            " 3   Average days in school year     48 non-null     float64\n",
            " 4   Average hours in school year    48 non-null     float64\n",
            " 5   ADA as percent of enrollment.1  48 non-null     float64\n",
            " 6   Average hours in school day.1   48 non-null     float64\n",
            " 7   ADA as percent of enrollment.2  48 non-null     float64\n",
            " 8   Average hours in school day.2   48 non-null     float64\n",
            "dtypes: float64(8), object(1)\n",
            "memory usage: 3.8+ KB\n"
          ],
          "name": "stdout"
        }
      ]
    },
    {
      "cell_type": "code",
      "metadata": {
        "id": "gn0AVY0KW3kV",
        "colab_type": "code",
        "colab": {}
      },
      "source": [
        "df.dropna(inplace=True)"
      ],
      "execution_count": 0,
      "outputs": []
    },
    {
      "cell_type": "code",
      "metadata": {
        "id": "FEthKO-FW2Sm",
        "colab_type": "code",
        "colab": {}
      },
      "source": [
        "df.drop(labels=0,axis=0,inplace=True)"
      ],
      "execution_count": 0,
      "outputs": []
    },
    {
      "cell_type": "code",
      "metadata": {
        "id": "WM8qEXvGXVZZ",
        "colab_type": "code",
        "colab": {}
      },
      "source": [
        "df.rename(columns={'Unnamed: 0':'state'},inplace=True)"
      ],
      "execution_count": 0,
      "outputs": []
    },
    {
      "cell_type": "code",
      "metadata": {
        "id": "CjozEyBDXmyc",
        "colab_type": "code",
        "colab": {
          "base_uri": "https://localhost:8080/",
          "height": 296
        },
        "outputId": "dea1ce41-7938-41f3-cc36-4203ebacc56d"
      },
      "source": [
        "df.head()"
      ],
      "execution_count": 33,
      "outputs": [
        {
          "output_type": "execute_result",
          "data": {
            "text/html": [
              "<div>\n",
              "<style scoped>\n",
              "    .dataframe tbody tr th:only-of-type {\n",
              "        vertical-align: middle;\n",
              "    }\n",
              "\n",
              "    .dataframe tbody tr th {\n",
              "        vertical-align: top;\n",
              "    }\n",
              "\n",
              "    .dataframe thead th {\n",
              "        text-align: right;\n",
              "    }\n",
              "</style>\n",
              "<table border=\"1\" class=\"dataframe\">\n",
              "  <thead>\n",
              "    <tr style=\"text-align: right;\">\n",
              "      <th></th>\n",
              "      <th>state</th>\n",
              "      <th>ADA as percent of enrollment</th>\n",
              "      <th>Average hours in school day</th>\n",
              "      <th>Average days in school year</th>\n",
              "      <th>Average hours in school year</th>\n",
              "      <th>ADA as percent of enrollment.1</th>\n",
              "      <th>Average hours in school day.1</th>\n",
              "      <th>ADA as percent of enrollment.2</th>\n",
              "      <th>Average hours in school day.2</th>\n",
              "    </tr>\n",
              "  </thead>\n",
              "  <tbody>\n",
              "    <tr>\n",
              "      <th>1</th>\n",
              "      <td>United States ........</td>\n",
              "      <td>93.078962</td>\n",
              "      <td>6.64470</td>\n",
              "      <td>180.0</td>\n",
              "      <td>1192.6472</td>\n",
              "      <td>94.004983</td>\n",
              "      <td>6.656056</td>\n",
              "      <td>91.118081</td>\n",
              "      <td>6.594394</td>\n",
              "    </tr>\n",
              "    <tr>\n",
              "      <th>2</th>\n",
              "      <td>Alabama .................</td>\n",
              "      <td>93.812371</td>\n",
              "      <td>7.02852</td>\n",
              "      <td>180.0</td>\n",
              "      <td>1266.6205</td>\n",
              "      <td>93.776375</td>\n",
              "      <td>7.038473</td>\n",
              "      <td>94.561001</td>\n",
              "      <td>7.137239</td>\n",
              "    </tr>\n",
              "    <tr>\n",
              "      <th>3</th>\n",
              "      <td>Alaska ..................</td>\n",
              "      <td>89.917597</td>\n",
              "      <td>6.47688</td>\n",
              "      <td>180.0</td>\n",
              "      <td>1162.9084</td>\n",
              "      <td>91.281537</td>\n",
              "      <td>6.486785</td>\n",
              "      <td>93.240876</td>\n",
              "      <td>6.240865</td>\n",
              "    </tr>\n",
              "    <tr>\n",
              "      <th>4</th>\n",
              "      <td>Arizona .................</td>\n",
              "      <td>89.036961</td>\n",
              "      <td>6.43369</td>\n",
              "      <td>181.0</td>\n",
              "      <td>1159.1144</td>\n",
              "      <td>88.904393</td>\n",
              "      <td>6.443155</td>\n",
              "      <td>88.979716</td>\n",
              "      <td>6.369092</td>\n",
              "    </tr>\n",
              "    <tr>\n",
              "      <th>5</th>\n",
              "      <td>Arkansas ................</td>\n",
              "      <td>91.827111</td>\n",
              "      <td>6.88542</td>\n",
              "      <td>179.0</td>\n",
              "      <td>1228.8881</td>\n",
              "      <td>92.093201</td>\n",
              "      <td>6.932160</td>\n",
              "      <td>90.811952</td>\n",
              "      <td>6.767508</td>\n",
              "    </tr>\n",
              "  </tbody>\n",
              "</table>\n",
              "</div>"
            ],
            "text/plain": [
              "                       state  ...  Average hours in school day.2\n",
              "1     United States ........  ...                       6.594394\n",
              "2  Alabama .................  ...                       7.137239\n",
              "3  Alaska ..................  ...                       6.240865\n",
              "4  Arizona .................  ...                       6.369092\n",
              "5  Arkansas ................  ...                       6.767508\n",
              "\n",
              "[5 rows x 9 columns]"
            ]
          },
          "metadata": {
            "tags": []
          },
          "execution_count": 33
        }
      ]
    },
    {
      "cell_type": "code",
      "metadata": {
        "id": "9WR3y_x_XwrJ",
        "colab_type": "code",
        "colab": {}
      },
      "source": [
        "df['state']=df['state'].str.replace('.','')"
      ],
      "execution_count": 0,
      "outputs": []
    },
    {
      "cell_type": "code",
      "metadata": {
        "id": "S_eJgbQ1X5Yr",
        "colab_type": "code",
        "colab": {
          "base_uri": "https://localhost:8080/",
          "height": 229
        },
        "outputId": "ec04f4cb-a3f8-44c4-ec72-feae7b713ae2"
      },
      "source": [
        "df.head()"
      ],
      "execution_count": 40,
      "outputs": [
        {
          "output_type": "execute_result",
          "data": {
            "text/html": [
              "<div>\n",
              "<style scoped>\n",
              "    .dataframe tbody tr th:only-of-type {\n",
              "        vertical-align: middle;\n",
              "    }\n",
              "\n",
              "    .dataframe tbody tr th {\n",
              "        vertical-align: top;\n",
              "    }\n",
              "\n",
              "    .dataframe thead th {\n",
              "        text-align: right;\n",
              "    }\n",
              "</style>\n",
              "<table border=\"1\" class=\"dataframe\">\n",
              "  <thead>\n",
              "    <tr style=\"text-align: right;\">\n",
              "      <th></th>\n",
              "      <th>state</th>\n",
              "      <th>ADA as percent of enrollment</th>\n",
              "      <th>Average hours in school day</th>\n",
              "      <th>Average days in school year</th>\n",
              "      <th>Average hours in school year</th>\n",
              "      <th>ADA as percent of enrollment.1</th>\n",
              "      <th>Average hours in school day.1</th>\n",
              "      <th>ADA as percent of enrollment.2</th>\n",
              "      <th>Average hours in school day.2</th>\n",
              "    </tr>\n",
              "  </thead>\n",
              "  <tbody>\n",
              "    <tr>\n",
              "      <th>1</th>\n",
              "      <td>United States</td>\n",
              "      <td>93.078962</td>\n",
              "      <td>6.64470</td>\n",
              "      <td>180.0</td>\n",
              "      <td>1192.6472</td>\n",
              "      <td>94.004983</td>\n",
              "      <td>6.656056</td>\n",
              "      <td>91.118081</td>\n",
              "      <td>6.594394</td>\n",
              "    </tr>\n",
              "    <tr>\n",
              "      <th>2</th>\n",
              "      <td>Alabama</td>\n",
              "      <td>93.812371</td>\n",
              "      <td>7.02852</td>\n",
              "      <td>180.0</td>\n",
              "      <td>1266.6205</td>\n",
              "      <td>93.776375</td>\n",
              "      <td>7.038473</td>\n",
              "      <td>94.561001</td>\n",
              "      <td>7.137239</td>\n",
              "    </tr>\n",
              "    <tr>\n",
              "      <th>3</th>\n",
              "      <td>Alaska</td>\n",
              "      <td>89.917597</td>\n",
              "      <td>6.47688</td>\n",
              "      <td>180.0</td>\n",
              "      <td>1162.9084</td>\n",
              "      <td>91.281537</td>\n",
              "      <td>6.486785</td>\n",
              "      <td>93.240876</td>\n",
              "      <td>6.240865</td>\n",
              "    </tr>\n",
              "    <tr>\n",
              "      <th>4</th>\n",
              "      <td>Arizona</td>\n",
              "      <td>89.036961</td>\n",
              "      <td>6.43369</td>\n",
              "      <td>181.0</td>\n",
              "      <td>1159.1144</td>\n",
              "      <td>88.904393</td>\n",
              "      <td>6.443155</td>\n",
              "      <td>88.979716</td>\n",
              "      <td>6.369092</td>\n",
              "    </tr>\n",
              "    <tr>\n",
              "      <th>5</th>\n",
              "      <td>Arkansas</td>\n",
              "      <td>91.827111</td>\n",
              "      <td>6.88542</td>\n",
              "      <td>179.0</td>\n",
              "      <td>1228.8881</td>\n",
              "      <td>92.093201</td>\n",
              "      <td>6.932160</td>\n",
              "      <td>90.811952</td>\n",
              "      <td>6.767508</td>\n",
              "    </tr>\n",
              "  </tbody>\n",
              "</table>\n",
              "</div>"
            ],
            "text/plain": [
              "               state  ...  Average hours in school day.2\n",
              "1     United States   ...                       6.594394\n",
              "2           Alabama   ...                       7.137239\n",
              "3            Alaska   ...                       6.240865\n",
              "4           Arizona   ...                       6.369092\n",
              "5          Arkansas   ...                       6.767508\n",
              "\n",
              "[5 rows x 9 columns]"
            ]
          },
          "metadata": {
            "tags": []
          },
          "execution_count": 40
        }
      ]
    }
  ]
}